{
  "nbformat": 4,
  "nbformat_minor": 0,
  "metadata": {
    "colab": {
      "provenance": [],
      "authorship_tag": "ABX9TyOy0a74JyvfZpMTjaqX5J5k",
      "include_colab_link": true
    },
    "kernelspec": {
      "name": "python3",
      "display_name": "Python 3"
    },
    "language_info": {
      "name": "python"
    }
  },
  "cells": [
    {
      "cell_type": "markdown",
      "metadata": {
        "id": "view-in-github",
        "colab_type": "text"
      },
      "source": [
        "<a href=\"https://colab.research.google.com/github/NithyaPKiran/Assignments/blob/main/Assignement_Basic_stats_2.ipynb\" target=\"_parent\"><img src=\"https://colab.research.google.com/assets/colab-badge.svg\" alt=\"Open In Colab\"/></a>"
      ]
    },
    {
      "cell_type": "markdown",
      "source": [
        "## SET 1"
      ],
      "metadata": {
        "id": "_Ij3JrNreXft"
      }
    },
    {
      "cell_type": "markdown",
      "source": [
        "Q1"
      ],
      "metadata": {
        "id": "h1JXgLrped6I"
      }
    },
    {
      "cell_type": "code",
      "execution_count": 1,
      "metadata": {
        "id": "K1J2JvnZsMZH"
      },
      "outputs": [],
      "source": [
        "import numpy as np\n",
        "import pandas as pd\n",
        "import seaborn as sns\n",
        "import matplotlib.pyplot as plt\n",
        "%matplotlib inline"
      ]
    },
    {
      "cell_type": "code",
      "source": [
        "x = pd.Series([24.33,25.53,25.41,24.14,29.62,28.25,25.81,24.39,40.26,32.95,91.36,25.99,39.51,26.71,35])"
      ],
      "metadata": {
        "id": "mcRmt9TStbL2"
      },
      "execution_count": 2,
      "outputs": []
    },
    {
      "cell_type": "code",
      "source": [
        "sns.boxplot(x,orient =\"h\" )"
      ],
      "metadata": {
        "colab": {
          "base_uri": "https://localhost:8080/",
          "height": 448
        },
        "id": "R56hn0hnt4bK",
        "outputId": "0e7ee2b7-967b-4a6c-b2ba-042ae7335911"
      },
      "execution_count": 3,
      "outputs": [
        {
          "output_type": "execute_result",
          "data": {
            "text/plain": [
              "<Axes: >"
            ]
          },
          "metadata": {},
          "execution_count": 3
        },
        {
          "output_type": "display_data",
          "data": {
            "text/plain": [
              "<Figure size 640x480 with 1 Axes>"
            ],
            "image/png": "[encoded data removed]"
          },
          "metadata": {}
        }
      ]
    },
    {
      "cell_type": "code",
      "source": [
        "x.mean()"
      ],
      "metadata": {
        "colab": {
          "base_uri": "https://localhost:8080/"
        },
        "id": "YWLds0rqt_4b",
        "outputId": "8d68b3fb-da95-40ef-bbd9-1b778dc8d319"
      },
      "execution_count": 4,
      "outputs": [
        {
          "output_type": "execute_result",
          "data": {
            "text/plain": [
              "33.284"
            ]
          },
          "metadata": {},
          "execution_count": 4
        }
      ]
    },
    {
      "cell_type": "code",
      "source": [
        "x.std()"
      ],
      "metadata": {
        "colab": {
          "base_uri": "https://localhost:8080/"
        },
        "id": "fbhxHjFlvAqS",
        "outputId": "2eaed734-dfc4-4acc-bcd7-1823226b9005"
      },
      "execution_count": 5,
      "outputs": [
        {
          "output_type": "execute_result",
          "data": {
            "text/plain": [
              "16.943955432964458"
            ]
          },
          "metadata": {},
          "execution_count": 5
        }
      ]
    },
    {
      "cell_type": "code",
      "source": [
        "x.var()"
      ],
      "metadata": {
        "id": "Ta_8pzyKvDgc",
        "outputId": "6c0b8c67-a4e3-43ba-92c6-67603103d0fc",
        "colab": {
          "base_uri": "https://localhost:8080/"
        }
      },
      "execution_count": 6,
      "outputs": [
        {
          "output_type": "execute_result",
          "data": {
            "text/plain": [
              "287.09762571428575"
            ]
          },
          "metadata": {},
          "execution_count": 6
        }
      ]
    },
    {
      "cell_type": "markdown",
      "source": [
        "# SET 2"
      ],
      "metadata": {
        "id": "07GF93QDefzN"
      }
    },
    {
      "cell_type": "markdown",
      "source": [
        "Q1"
      ],
      "metadata": {
        "id": "y_6KNQCVekLT"
      }
    },
    {
      "cell_type": "code",
      "source": [
        "from scipy import stats\n",
        "from scipy.stats import norm"
      ],
      "metadata": {
        "id": "VBhHxGRovHEY"
      },
      "execution_count": 7,
      "outputs": []
    },
    {
      "cell_type": "code",
      "source": [
        "#desired value =  50 because manager starts work 10 mins after customer drops car\n",
        "#Z= (x-Mu)/std dev\n",
        "Z = (50-45)/8\n",
        "Z"
      ],
      "metadata": {
        "colab": {
          "base_uri": "https://localhost:8080/"
        },
        "id": "OiYAuvK1euLL",
        "outputId": "ca38bf61-0ac2-42a0-8f78-f2679b8f6ac2"
      },
      "execution_count": 8,
      "outputs": [
        {
          "output_type": "execute_result",
          "data": {
            "text/plain": [
              "0.625"
            ]
          },
          "metadata": {},
          "execution_count": 8
        }
      ]
    },
    {
      "cell_type": "code",
      "source": [
        "#P(X>50)= 1 - P(x<=50)\n",
        "Prob = 1 - stats.norm.cdf(abs(00.625))\n",
        "Prob"
      ],
      "metadata": {
        "colab": {
          "base_uri": "https://localhost:8080/"
        },
        "id": "S0_niFkDgsLC",
        "outputId": "21f6aa75-ecce-42a5-abd4-82a152db4937"
      },
      "execution_count": 9,
      "outputs": [
        {
          "output_type": "execute_result",
          "data": {
            "text/plain": [
              "0.26598552904870054"
            ]
          },
          "metadata": {},
          "execution_count": 9
        }
      ]
    },
    {
      "cell_type": "markdown",
      "source": [
        "Q2"
      ],
      "metadata": {
        "id": "st4tib1miqfK"
      }
    },
    {
      "cell_type": "code",
      "source": [
        "#for finding the number of employees below age 30\n",
        "400*stats.norm.cdf(30,38,6)"
      ],
      "metadata": {
        "colab": {
          "base_uri": "https://localhost:8080/"
        },
        "id": "FHoowDHDg5sd",
        "outputId": "bf6a5071-cd36-4115-e967-52fd4a251b76"
      },
      "execution_count": 10,
      "outputs": [
        {
          "output_type": "execute_result",
          "data": {
            "text/plain": [
              "36.484487890347154"
            ]
          },
          "metadata": {},
          "execution_count": 10
        }
      ]
    },
    {
      "cell_type": "markdown",
      "source": [
        "Q4"
      ],
      "metadata": {
        "id": "Rzw7L6YvmUuR"
      }
    },
    {
      "cell_type": "code",
      "source": [
        "stats.norm.interval(0.99,100,20)"
      ],
      "metadata": {
        "colab": {
          "base_uri": "https://localhost:8080/"
        },
        "id": "y5S6DT5Mi5Tr",
        "outputId": "43d843a6-6c51-4ead-bacb-31dd45011034"
      },
      "execution_count": 11,
      "outputs": [
        {
          "output_type": "execute_result",
          "data": {
            "text/plain": [
              "(48.48341392902199, 151.516586070978)"
            ]
          },
          "metadata": {},
          "execution_count": 11
        }
      ]
    },
    {
      "cell_type": "markdown",
      "source": [
        "Q5"
      ],
      "metadata": {
        "id": "QSUHPX4Onc0H"
      }
    },
    {
      "cell_type": "code",
      "source": [
        "total_mean = 5+7\n",
        "total_mean"
      ],
      "metadata": {
        "colab": {
          "base_uri": "https://localhost:8080/"
        },
        "id": "wbOiUEQfmaHX",
        "outputId": "938bb5c4-5a14-488f-90a0-0fe17823a130"
      },
      "execution_count": 12,
      "outputs": [
        {
          "output_type": "execute_result",
          "data": {
            "text/plain": [
              "12"
            ]
          },
          "metadata": {},
          "execution_count": 12
        }
      ]
    },
    {
      "cell_type": "code",
      "source": [
        "mean_profits = total_mean*45\n",
        "mean_profits #in Millions"
      ],
      "metadata": {
        "colab": {
          "base_uri": "https://localhost:8080/"
        },
        "id": "_8a06df7nmJj",
        "outputId": "54494b9e-d605-4822-c60e-5986a57273ce"
      },
      "execution_count": 13,
      "outputs": [
        {
          "output_type": "execute_result",
          "data": {
            "text/plain": [
              "540"
            ]
          },
          "metadata": {},
          "execution_count": 13
        }
      ]
    },
    {
      "cell_type": "code",
      "source": [
        "totalstandard_deviation = np.sqrt((9)+(16))\n",
        "totalstandard_deviation"
      ],
      "metadata": {
        "colab": {
          "base_uri": "https://localhost:8080/"
        },
        "id": "eDjs_yNmnhFo",
        "outputId": "05b6e491-f0f3-4871-ba12-91562e3a1d99"
      },
      "execution_count": 14,
      "outputs": [
        {
          "output_type": "execute_result",
          "data": {
            "text/plain": [
              "5.0"
            ]
          },
          "metadata": {},
          "execution_count": 14
        }
      ]
    },
    {
      "cell_type": "code",
      "source": [
        "std_profits = totalstandard_deviation*45\n",
        "std_profits #in Millions"
      ],
      "metadata": {
        "id": "34BqutjNoIc0",
        "colab": {
          "base_uri": "https://localhost:8080/"
        },
        "outputId": "b391abde-d7f9-4f9b-aee5-f548172e11aa"
      },
      "execution_count": 16,
      "outputs": [
        {
          "output_type": "execute_result",
          "data": {
            "text/plain": [
              "225.0"
            ]
          },
          "metadata": {},
          "execution_count": 16
        }
      ]
    },
    {
      "cell_type": "code",
      "source": [
        "#for the range - in Millions\n",
        "stats.norm.interval(0.95,540,225)"
      ],
      "metadata": {
        "id": "QXinBaDBoYjR",
        "colab": {
          "base_uri": "https://localhost:8080/"
        },
        "outputId": "b00b129e-794b-49a7-b6d7-65a735b55359"
      },
      "execution_count": 17,
      "outputs": [
        {
          "output_type": "execute_result",
          "data": {
            "text/plain": [
              "(99.00810347848784, 980.9918965215122)"
            ]
          },
          "metadata": {},
          "execution_count": 17
        }
      ]
    },
    {
      "cell_type": "code",
      "source": [
        "#5th percentile = Mu + Zsigma\n",
        "#Z = - 1.645\n",
        "fifthpercentile = 540 + (-1.645)*225\n",
        "fifthpercentile"
      ],
      "metadata": {
        "colab": {
          "base_uri": "https://localhost:8080/"
        },
        "id": "IFBPoDjKk94F",
        "outputId": "0bf2a7ba-9cbe-4179-9bac-f28a5dd76ffd"
      },
      "execution_count": 19,
      "outputs": [
        {
          "output_type": "execute_result",
          "data": {
            "text/plain": [
              "169.875"
            ]
          },
          "metadata": {},
          "execution_count": 19
        }
      ]
    },
    {
      "cell_type": "code",
      "source": [
        "#prob of 1 st division making loss\n",
        "#p(x<0)\n",
        "div1 = stats.norm.cdf(0,5,3)\n",
        "print(np.round(div1*100,2))"
      ],
      "metadata": {
        "colab": {
          "base_uri": "https://localhost:8080/"
        },
        "id": "k7_1LIJBqkNJ",
        "outputId": "401ff594-fb3a-42ba-a96f-12a4ce6588f8"
      },
      "execution_count": 23,
      "outputs": [
        {
          "output_type": "stream",
          "name": "stdout",
          "text": [
            "4.78\n"
          ]
        }
      ]
    },
    {
      "cell_type": "code",
      "source": [
        "#prob of 2nd division making loss\n",
        "#p(x<0)\n",
        "div2 = stats.norm.cdf(0,7,4)\n",
        "print(np.round(div2*100,2))"
      ],
      "metadata": {
        "colab": {
          "base_uri": "https://localhost:8080/"
        },
        "id": "n1ind_INrqK3",
        "outputId": "d5234af3-f5ce-4be7-8b59-1cc5f7d7359e"
      },
      "execution_count": 24,
      "outputs": [
        {
          "output_type": "stream",
          "name": "stdout",
          "text": [
            "4.01\n"
          ]
        }
      ]
    },
    {
      "cell_type": "markdown",
      "source": [
        "# Set 3"
      ],
      "metadata": {
        "id": "jhMJWq4BtHE8"
      }
    },
    {
      "cell_type": "code",
      "source": [],
      "metadata": {
        "id": "7nXJbtmorx0m"
      },
      "execution_count": null,
      "outputs": []
    }
  ]
}