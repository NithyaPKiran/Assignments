{
  "nbformat": 4,
  "nbformat_minor": 0,
  "metadata": {
    "colab": {
      "provenance": [],
      "authorship_tag": "ABX9TyMpzoPnSQiOPKDbWiOlNxgZ",
      "include_colab_link": true
    },
    "kernelspec": {
      "name": "python3",
      "display_name": "Python 3"
    },
    "language_info": {
      "name": "python"
    }
  },
  "cells": [
    {
      "cell_type": "markdown",
      "metadata": {
        "id": "view-in-github",
        "colab_type": "text"
      },
      "source": [
        "<a href=\"https://colab.research.google.com/github/NithyaPKiran/Assignments/blob/main/Assignement_Basic_stats_2.ipynb\" target=\"_parent\"><img src=\"https://colab.research.google.com/assets/colab-badge.svg\" alt=\"Open In Colab\"/></a>"
      ]
    },
    {
      "cell_type": "markdown",
      "source": [
        "## SET 1"
      ],
      "metadata": {
        "id": "_Ij3JrNreXft"
      }
    },
    {
      "cell_type": "markdown",
      "source": [
        "Q1"
      ],
      "metadata": {
        "id": "h1JXgLrped6I"
      }
    },
    {
      "cell_type": "code",
      "execution_count": null,
      "metadata": {
        "id": "K1J2JvnZsMZH"
      },
      "outputs": [],
      "source": [
        "import numpy as np\n",
        "import pandas as pd\n",
        "import seaborn as sns\n",
        "import matplotlib.pyplot as plt\n",
        "%matplotlib inline"
      ]
    },
    {
      "cell_type": "code",
      "source": [
        "x = pd.Series([24.33,25.53,25.41,24.14,29.62,28.25,25.81,24.39,40.26,32.95,91.36,25.99,39.51,26.71,35])"
      ],
      "metadata": {
        "id": "mcRmt9TStbL2"
      },
      "execution_count": null,
      "outputs": []
    },
    {
      "cell_type": "code",
      "source": [
        "sns.boxplot(x,orient =\"h\" )"
      ],
      "metadata": {
        "colab": {
          "base_uri": "https://localhost:8080/",
          "height": 448
        },
        "id": "R56hn0hnt4bK",
        "outputId": "ab697b50-a327-4b7c-e18a-d120a3bdb43d"
      },
      "execution_count": null,
      "outputs": [
        {
          "output_type": "execute_result",
          "data": {
            "text/plain": [
              "<Axes: >"
            ]
          },
          "metadata": {},
          "execution_count": 3
        },
        {
          "output_type": "display_data",
          "data": {
            "text/plain": [
              "<Figure size 640x480 with 1 Axes>"
            ],
            "image/png": "[encoded data removed]"
          },
          "metadata": {}
        }
      ]
    },
    {
      "cell_type": "code",
      "source": [
        "x.mean()"
      ],
      "metadata": {
        "colab": {
          "base_uri": "https://localhost:8080/"
        },
        "id": "YWLds0rqt_4b",
        "outputId": "900a4257-7af9-450c-a51d-cb66900e07da"
      },
      "execution_count": null,
      "outputs": [
        {
          "output_type": "execute_result",
          "data": {
            "text/plain": [
              "33.284"
            ]
          },
          "metadata": {},
          "execution_count": 4
        }
      ]
    },
    {
      "cell_type": "code",
      "source": [
        "x.std()"
      ],
      "metadata": {
        "colab": {
          "base_uri": "https://localhost:8080/"
        },
        "id": "fbhxHjFlvAqS",
        "outputId": "bcfef378-054c-4484-c582-3d93dff52941"
      },
      "execution_count": null,
      "outputs": [
        {
          "output_type": "execute_result",
          "data": {
            "text/plain": [
              "16.943955432964458"
            ]
          },
          "metadata": {},
          "execution_count": 5
        }
      ]
    },
    {
      "cell_type": "code",
      "source": [
        "x.var()"
      ],
      "metadata": {
        "id": "Ta_8pzyKvDgc",
        "outputId": "a244acf1-bb09-4693-b18a-0f0b23bbc545",
        "colab": {
          "base_uri": "https://localhost:8080/"
        }
      },
      "execution_count": null,
      "outputs": [
        {
          "output_type": "execute_result",
          "data": {
            "text/plain": [
              "287.09762571428575"
            ]
          },
          "metadata": {},
          "execution_count": 6
        }
      ]
    },
    {
      "cell_type": "markdown",
      "source": [
        "# SET 2"
      ],
      "metadata": {
        "id": "07GF93QDefzN"
      }
    },
    {
      "cell_type": "markdown",
      "source": [
        "Q1"
      ],
      "metadata": {
        "id": "y_6KNQCVekLT"
      }
    },
    {
      "cell_type": "code",
      "source": [
        "from scipy import stats\n",
        "from scipy.stats import norm"
      ],
      "metadata": {
        "id": "VBhHxGRovHEY"
      },
      "execution_count": null,
      "outputs": []
    },
    {
      "cell_type": "code",
      "source": [
        "#desired value =  50 because manager starts work 10 mins after customer drops car\n",
        "#Z= (x-Mu)/std dev\n",
        "Z = (50-45)/8\n",
        "Z"
      ],
      "metadata": {
        "colab": {
          "base_uri": "https://localhost:8080/"
        },
        "id": "OiYAuvK1euLL",
        "outputId": "ac8af320-1c04-4f43-dc67-5820c5248fa6"
      },
      "execution_count": null,
      "outputs": [
        {
          "output_type": "execute_result",
          "data": {
            "text/plain": [
              "0.625"
            ]
          },
          "metadata": {},
          "execution_count": 8
        }
      ]
    },
    {
      "cell_type": "code",
      "source": [
        "#P(X>50)= 1 - P(x<=50)\n",
        "Prob = 1 - stats.norm.cdf(abs(00.625))\n",
        "Prob"
      ],
      "metadata": {
        "colab": {
          "base_uri": "https://localhost:8080/"
        },
        "id": "S0_niFkDgsLC",
        "outputId": "574d8714-13f8-4387-a675-bf0bdd4b28be"
      },
      "execution_count": null,
      "outputs": [
        {
          "output_type": "execute_result",
          "data": {
            "text/plain": [
              "0.26598552904870054"
            ]
          },
          "metadata": {},
          "execution_count": 9
        }
      ]
    },
    {
      "cell_type": "markdown",
      "source": [
        "Q2"
      ],
      "metadata": {
        "id": "st4tib1miqfK"
      }
    },
    {
      "cell_type": "code",
      "source": [
        "#for finding the number of employees below age 30\n",
        "400*stats.norm.cdf(30,38,6)"
      ],
      "metadata": {
        "colab": {
          "base_uri": "https://localhost:8080/"
        },
        "id": "FHoowDHDg5sd",
        "outputId": "b450bf25-79c1-43ad-d01b-804e4105507b"
      },
      "execution_count": null,
      "outputs": [
        {
          "output_type": "execute_result",
          "data": {
            "text/plain": [
              "36.484487890347154"
            ]
          },
          "metadata": {},
          "execution_count": 10
        }
      ]
    },
    {
      "cell_type": "markdown",
      "source": [
        "Q4"
      ],
      "metadata": {
        "id": "Rzw7L6YvmUuR"
      }
    },
    {
      "cell_type": "code",
      "source": [
        "stats.norm.interval(0.99,100,20)"
      ],
      "metadata": {
        "colab": {
          "base_uri": "https://localhost:8080/"
        },
        "id": "y5S6DT5Mi5Tr",
        "outputId": "f135aab1-8855-46e2-c30b-56d2f77a42b5"
      },
      "execution_count": null,
      "outputs": [
        {
          "output_type": "execute_result",
          "data": {
            "text/plain": [
              "(48.48341392902199, 151.516586070978)"
            ]
          },
          "metadata": {},
          "execution_count": 11
        }
      ]
    },
    {
      "cell_type": "markdown",
      "source": [
        "Q5"
      ],
      "metadata": {
        "id": "QSUHPX4Onc0H"
      }
    },
    {
      "cell_type": "code",
      "source": [
        "total_mean = 5+7\n",
        "total_mean"
      ],
      "metadata": {
        "colab": {
          "base_uri": "https://localhost:8080/"
        },
        "id": "wbOiUEQfmaHX",
        "outputId": "d2321dab-6d5a-4a07-b9e2-16a5bfbd615a"
      },
      "execution_count": null,
      "outputs": [
        {
          "output_type": "execute_result",
          "data": {
            "text/plain": [
              "12"
            ]
          },
          "metadata": {},
          "execution_count": 12
        }
      ]
    },
    {
      "cell_type": "code",
      "source": [
        "mean_profits = total_mean*45\n",
        "mean_profits #in Millions"
      ],
      "metadata": {
        "colab": {
          "base_uri": "https://localhost:8080/"
        },
        "id": "_8a06df7nmJj",
        "outputId": "f073a048-e801-46e4-d6ae-63c6d217b664"
      },
      "execution_count": null,
      "outputs": [
        {
          "output_type": "execute_result",
          "data": {
            "text/plain": [
              "540"
            ]
          },
          "metadata": {},
          "execution_count": 13
        }
      ]
    },
    {
      "cell_type": "code",
      "source": [
        "totalstandard_deviation = np.sqrt((9)+(16))\n",
        "totalstandard_deviation"
      ],
      "metadata": {
        "colab": {
          "base_uri": "https://localhost:8080/"
        },
        "id": "eDjs_yNmnhFo",
        "outputId": "dd334784-7d72-4602-c03c-d9a27ec2f9d1"
      },
      "execution_count": null,
      "outputs": [
        {
          "output_type": "execute_result",
          "data": {
            "text/plain": [
              "5.0"
            ]
          },
          "metadata": {},
          "execution_count": 14
        }
      ]
    },
    {
      "cell_type": "code",
      "source": [
        "std_profits = totalstandard_deviation*45\n",
        "std_profits #in Millions"
      ],
      "metadata": {
        "id": "34BqutjNoIc0",
        "colab": {
          "base_uri": "https://localhost:8080/"
        },
        "outputId": "e8b805c1-21a4-484b-ec12-f440f04b5c5b"
      },
      "execution_count": null,
      "outputs": [
        {
          "output_type": "execute_result",
          "data": {
            "text/plain": [
              "225.0"
            ]
          },
          "metadata": {},
          "execution_count": 15
        }
      ]
    },
    {
      "cell_type": "code",
      "source": [
        "#for the range - in Millions\n",
        "stats.norm.interval(0.95,540,225)"
      ],
      "metadata": {
        "id": "QXinBaDBoYjR",
        "colab": {
          "base_uri": "https://localhost:8080/"
        },
        "outputId": "31ff8dad-8749-4192-b916-c730b19b6e79"
      },
      "execution_count": null,
      "outputs": [
        {
          "output_type": "execute_result",
          "data": {
            "text/plain": [
              "(99.00810347848784, 980.9918965215122)"
            ]
          },
          "metadata": {},
          "execution_count": 16
        }
      ]
    },
    {
      "cell_type": "code",
      "source": [
        "#5th percentile = Mu + Zsigma\n",
        "#Z = - 1.645\n",
        "fifthpercentile = 540 + (-1.645)*225\n",
        "fifthpercentile"
      ],
      "metadata": {
        "colab": {
          "base_uri": "https://localhost:8080/"
        },
        "id": "IFBPoDjKk94F",
        "outputId": "be5949bf-0a2f-4c50-d239-8be955e480ab"
      },
      "execution_count": null,
      "outputs": [
        {
          "output_type": "execute_result",
          "data": {
            "text/plain": [
              "169.875"
            ]
          },
          "metadata": {},
          "execution_count": 17
        }
      ]
    },
    {
      "cell_type": "code",
      "source": [
        "#prob of 1 st division making loss\n",
        "#p(x<0)\n",
        "div1 = stats.norm.cdf(0,5,3)\n",
        "print(np.round(div1*100,2))"
      ],
      "metadata": {
        "colab": {
          "base_uri": "https://localhost:8080/"
        },
        "id": "k7_1LIJBqkNJ",
        "outputId": "e672db80-c1ab-4544-bdc3-35d06831a767"
      },
      "execution_count": null,
      "outputs": [
        {
          "output_type": "stream",
          "name": "stdout",
          "text": [
            "4.78\n"
          ]
        }
      ]
    },
    {
      "cell_type": "code",
      "source": [
        "#prob of 2nd division making loss\n",
        "#p(x<0)\n",
        "div2 = stats.norm.cdf(0,7,4)\n",
        "print(np.round(div2*100,2))"
      ],
      "metadata": {
        "colab": {
          "base_uri": "https://localhost:8080/"
        },
        "id": "n1ind_INrqK3",
        "outputId": "56d69e6a-811a-4cc0-9c88-0ec86d9cb30b"
      },
      "execution_count": null,
      "outputs": [
        {
          "output_type": "stream",
          "name": "stdout",
          "text": [
            "4.01\n"
          ]
        }
      ]
    },
    {
      "cell_type": "markdown",
      "source": [
        "# Set 3"
      ],
      "metadata": {
        "id": "jhMJWq4BtHE8"
      }
    },
    {
      "cell_type": "code",
      "source": [],
      "metadata": {
        "id": "xot12oNtRuRN"
      },
      "execution_count": null,
      "outputs": []
    },
    {
      "cell_type": "markdown",
      "source": [
        "#Set 4"
      ],
      "metadata": {
        "id": "1kXqk2wmRp61"
      }
    },
    {
      "cell_type": "markdown",
      "source": [
        "Q3\n"
      ],
      "metadata": {
        "id": "XR0Un2ZpoI-f"
      }
    },
    {
      "cell_type": "code",
      "source": [
        "#For investigation P(45<X<55)\n",
        "#For no investigation 1-P(45<X<55)\n"
      ],
      "metadata": {
        "id": "7nXJbtmorx0m"
      },
      "execution_count": null,
      "outputs": []
    },
    {
      "cell_type": "markdown",
      "source": [
        "![image.png](data:image/png;base64,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)"
      ],
      "metadata": {
        "id": "bBc899qnpJNg"
      }
    },
    {
      "cell_type": "code",
      "source": [
        "z = (45-50)/(40/100**0.5)\n",
        "z"
      ],
      "metadata": {
        "colab": {
          "base_uri": "https://localhost:8080/"
        },
        "id": "YhSHNbQZpIX5",
        "outputId": "66e65370-d2a1-4534-e944-e6c38d2e469d"
      },
      "execution_count": null,
      "outputs": [
        {
          "output_type": "execute_result",
          "data": {
            "text/plain": [
              "-1.25"
            ]
          },
          "metadata": {},
          "execution_count": 21
        }
      ]
    },
    {
      "cell_type": "code",
      "source": [
        "z = (55-50)/(40/100**0.5)\n",
        "z"
      ],
      "metadata": {
        "colab": {
          "base_uri": "https://localhost:8080/"
        },
        "id": "-Imc8D_kpY6E",
        "outputId": "145ef124-4f28-48c7-c314-ddd63cf11748"
      },
      "execution_count": null,
      "outputs": [
        {
          "output_type": "execute_result",
          "data": {
            "text/plain": [
              "1.25"
            ]
          },
          "metadata": {},
          "execution_count": 22
        }
      ]
    },
    {
      "cell_type": "code",
      "source": [
        "#P(45<X<55)\n",
        "y = stats.norm.cdf(1.25)-stats.norm.cdf(-1.25)"
      ],
      "metadata": {
        "id": "lfliRYBDpg5y"
      },
      "execution_count": null,
      "outputs": []
    },
    {
      "cell_type": "code",
      "source": [
        "#for investigation 1-P(45<X<55)\n",
        "round((1-y)*100,2)"
      ],
      "metadata": {
        "colab": {
          "base_uri": "https://localhost:8080/"
        },
        "id": "Ko07Ukd1wKAu",
        "outputId": "311934d5-02b4-4a4d-d9ef-ee7d91d0972b"
      },
      "execution_count": null,
      "outputs": [
        {
          "output_type": "execute_result",
          "data": {
            "text/plain": [
              "21.13"
            ]
          },
          "metadata": {},
          "execution_count": 28
        }
      ]
    },
    {
      "cell_type": "code",
      "source": [],
      "metadata": {
        "id": "zOvPAg7tw6Ot"
      },
      "execution_count": null,
      "outputs": []
    }
  ]
}